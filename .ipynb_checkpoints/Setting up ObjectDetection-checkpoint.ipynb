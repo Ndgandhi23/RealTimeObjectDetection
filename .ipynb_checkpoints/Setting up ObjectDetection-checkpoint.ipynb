{
 "cells": [
  {
   "cell_type": "code",
   "execution_count": 7,
   "id": "5b75e585",
   "metadata": {},
   "outputs": [],
   "source": [
    "import cv2 #opencv\n",
    "import os \n",
    "import time \n",
    "import uuid"
   ]
  },
  {
   "cell_type": "code",
   "execution_count": 8,
   "id": "3727a5b2",
   "metadata": {},
   "outputs": [],
   "source": [
    "IMAGES_PATH = 'Tensorflow/workspace/images/collectedimages'"
   ]
  },
  {
   "cell_type": "code",
   "execution_count": 9,
   "id": "c4415aa6",
   "metadata": {},
   "outputs": [],
   "source": [
    "labels = ['hello', 'thanks', 'yes', 'no', 'iloveyou']\n",
    "number_imgs = 15"
   ]
  },
  {
   "cell_type": "code",
   "execution_count": 10,
   "id": "ffb1236c",
   "metadata": {},
   "outputs": [
    {
     "name": "stderr",
     "output_type": "stream",
     "text": [
      "A subdirectory or file #create already exists.\n",
      "Error occurred while processing: #create.\n",
      "A subdirectory or file a already exists.\n",
      "Error occurred while processing: a.\n",
      "A subdirectory or file directory already exists.\n",
      "Error occurred while processing: directory.\n",
      "A subdirectory or file for already exists.\n",
      "Error occurred while processing: for.\n",
      "A subdirectory or file each already exists.\n",
      "Error occurred while processing: each.\n",
      "A subdirectory or file of already exists.\n",
      "Error occurred while processing: of.\n",
      "A subdirectory or file the already exists.\n",
      "Error occurred while processing: the.\n",
      "A subdirectory or file labels already exists.\n",
      "Error occurred while processing: labels.\n"
     ]
    },
    {
     "name": "stdout",
     "output_type": "stream",
     "text": [
      "Collecting images for hello\n"
     ]
    },
    {
     "name": "stderr",
     "output_type": "stream",
     "text": [
      "A subdirectory or file #create already exists.\n",
      "Error occurred while processing: #create.\n",
      "A subdirectory or file a already exists.\n",
      "Error occurred while processing: a.\n",
      "A subdirectory or file directory already exists.\n",
      "Error occurred while processing: directory.\n",
      "A subdirectory or file for already exists.\n",
      "Error occurred while processing: for.\n",
      "A subdirectory or file each already exists.\n",
      "Error occurred while processing: each.\n",
      "A subdirectory or file of already exists.\n",
      "Error occurred while processing: of.\n",
      "A subdirectory or file the already exists.\n",
      "Error occurred while processing: the.\n",
      "A subdirectory or file labels already exists.\n",
      "Error occurred while processing: labels.\n"
     ]
    },
    {
     "name": "stdout",
     "output_type": "stream",
     "text": [
      "Collecting images for thanks\n"
     ]
    },
    {
     "ename": "KeyboardInterrupt",
     "evalue": "",
     "output_type": "error",
     "traceback": [
      "\u001b[1;31m----------------------------------------------------------------\u001b[0m",
      "\u001b[1;31mKeyboardInterrupt\u001b[0m              Traceback (most recent call last)",
      "Input \u001b[1;32mIn [10]\u001b[0m, in \u001b[0;36m<cell line: 1>\u001b[1;34m()\u001b[0m\n\u001b[0;32m     10\u001b[0m cv2\u001b[38;5;241m.\u001b[39mimwrite(imgname, frame) \u001b[38;5;66;03m#writes the image to the directory\u001b[39;00m\n\u001b[0;32m     11\u001b[0m cv2\u001b[38;5;241m.\u001b[39mimshow(\u001b[38;5;124m'\u001b[39m\u001b[38;5;124mframe\u001b[39m\u001b[38;5;124m'\u001b[39m, frame) \u001b[38;5;66;03m#shows it to the screen\u001b[39;00m\n\u001b[1;32m---> 12\u001b[0m \u001b[43mtime\u001b[49m\u001b[38;5;241;43m.\u001b[39;49m\u001b[43msleep\u001b[49m\u001b[43m(\u001b[49m\u001b[38;5;241;43m2\u001b[39;49m\u001b[43m)\u001b[49m \u001b[38;5;66;03m#gives it time to get into a new position\u001b[39;00m\n\u001b[0;32m     14\u001b[0m \u001b[38;5;28;01mif\u001b[39;00m cv2\u001b[38;5;241m.\u001b[39mwaitKey(\u001b[38;5;241m1\u001b[39m) \u001b[38;5;241m&\u001b[39m \u001b[38;5;241m0xFF\u001b[39m \u001b[38;5;241m==\u001b[39m \u001b[38;5;28mord\u001b[39m(\u001b[38;5;124m'\u001b[39m\u001b[38;5;124mq\u001b[39m\u001b[38;5;124m'\u001b[39m):\n\u001b[0;32m     15\u001b[0m     \u001b[38;5;28;01mbreak\u001b[39;00m\n",
      "\u001b[1;31mKeyboardInterrupt\u001b[0m: "
     ]
    }
   ],
   "source": [
    "for label in labels: #loop through the labels in the array\n",
    "    !mkdir {'Tensorflow\\workspace\\images\\collectedimages\\\\'+label} #create a directory for each of the labels\n",
    "    cap = cv2.VideoCapture(0) #init webcam\n",
    "    print('Collecting images for {}'.format(label)) \n",
    "    time.sleep(5) #give us time to get into position to get images\n",
    "    for imgnum in range(number_imgs): #loop through 15 images\n",
    "        ret, frame = cap.read() #set up our capture\n",
    "        #defining the image capture at image name at the file, and we give it a unique filename\n",
    "        imgname = os.path.join(IMAGES_PATH, label, label+'.'+'{}.jpg'.format(str(uuid.uuid1()))) \n",
    "        cv2.imwrite(imgname, frame) #writes the image to the directory\n",
    "        cv2.imshow('frame', frame) #shows it to the screen\n",
    "        time.sleep(2) #gives it time to get into a new position\n",
    "        \n",
    "        if cv2.waitKey(1) & 0xFF == ord('q'):\n",
    "            break\n",
    "    cap.release()"
   ]
  },
  {
   "cell_type": "code",
   "execution_count": null,
   "id": "3679e678",
   "metadata": {},
   "outputs": [],
   "source": []
  }
 ],
 "metadata": {
  "kernelspec": {
   "display_name": "Python 3 (ipykernel)",
   "language": "python",
   "name": "python3"
  },
  "language_info": {
   "codemirror_mode": {
    "name": "ipython",
    "version": 3
   },
   "file_extension": ".py",
   "mimetype": "text/x-python",
   "name": "python",
   "nbconvert_exporter": "python",
   "pygments_lexer": "ipython3",
   "version": "3.9.12"
  }
 },
 "nbformat": 4,
 "nbformat_minor": 5
}
