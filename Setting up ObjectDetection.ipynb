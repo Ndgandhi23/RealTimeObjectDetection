{
 "cells": [
  {
   "cell_type": "code",
   "execution_count": 15,
   "id": "f8e00e97",
   "metadata": {},
   "outputs": [],
   "source": [
    "import cv2 #opencv\n",
    "import os \n",
    "import time \n",
    "import uuid"
   ]
  },
  {
   "cell_type": "code",
   "execution_count": 16,
   "id": "e7a0f1ac",
   "metadata": {},
   "outputs": [],
   "source": [
    "IMAGES_PATH = 'Tensorflow/workspace/images/collectedimages'"
   ]
  },
  {
   "cell_type": "code",
   "execution_count": 17,
   "id": "6342b97e",
   "metadata": {},
   "outputs": [],
   "source": [
    "labels = ['hello', 'thanks', 'yes', 'no', 'iloveyou']\n",
    "number_imgs = 15"
   ]
  },
  {
   "cell_type": "code",
   "execution_count": 14,
   "id": "2c18242c",
   "metadata": {
    "scrolled": true
   },
   "outputs": [
    {
     "name": "stderr",
     "output_type": "stream",
     "text": [
      "A subdirectory or file #create already exists.\n",
      "Error occurred while processing: #create.\n",
      "A subdirectory or file a already exists.\n",
      "Error occurred while processing: a.\n",
      "A subdirectory or file directory already exists.\n",
      "Error occurred while processing: directory.\n",
      "A subdirectory or file for already exists.\n",
      "Error occurred while processing: for.\n",
      "A subdirectory or file each already exists.\n",
      "Error occurred while processing: each.\n",
      "A subdirectory or file of already exists.\n",
      "Error occurred while processing: of.\n",
      "A subdirectory or file the already exists.\n",
      "Error occurred while processing: the.\n",
      "A subdirectory or file labels already exists.\n",
      "Error occurred while processing: labels.\n"
     ]
    },
    {
     "name": "stdout",
     "output_type": "stream",
     "text": [
      "Collecting images for hello\n"
     ]
    },
    {
     "name": "stderr",
     "output_type": "stream",
     "text": [
      "A subdirectory or file #create already exists.\n",
      "Error occurred while processing: #create.\n",
      "A subdirectory or file a already exists.\n",
      "Error occurred while processing: a.\n",
      "A subdirectory or file directory already exists.\n",
      "Error occurred while processing: directory.\n",
      "A subdirectory or file for already exists.\n",
      "Error occurred while processing: for.\n",
      "A subdirectory or file each already exists.\n",
      "Error occurred while processing: each.\n",
      "A subdirectory or file of already exists.\n",
      "Error occurred while processing: of.\n",
      "A subdirectory or file the already exists.\n",
      "Error occurred while processing: the.\n",
      "A subdirectory or file labels already exists.\n",
      "Error occurred while processing: labels.\n"
     ]
    },
    {
     "name": "stdout",
     "output_type": "stream",
     "text": [
      "Collecting images for thanks\n"
     ]
    },
    {
     "name": "stderr",
     "output_type": "stream",
     "text": [
      "A subdirectory or file #create already exists.\n",
      "Error occurred while processing: #create.\n",
      "A subdirectory or file a already exists.\n",
      "Error occurred while processing: a.\n",
      "A subdirectory or file directory already exists.\n",
      "Error occurred while processing: directory.\n",
      "A subdirectory or file for already exists.\n",
      "Error occurred while processing: for.\n",
      "A subdirectory or file each already exists.\n",
      "Error occurred while processing: each.\n",
      "A subdirectory or file of already exists.\n",
      "Error occurred while processing: of.\n",
      "A subdirectory or file the already exists.\n",
      "Error occurred while processing: the.\n",
      "A subdirectory or file labels already exists.\n",
      "Error occurred while processing: labels.\n"
     ]
    },
    {
     "name": "stdout",
     "output_type": "stream",
     "text": [
      "Collecting images for yes\n"
     ]
    },
    {
     "name": "stderr",
     "output_type": "stream",
     "text": [
      "A subdirectory or file #create already exists.\n",
      "Error occurred while processing: #create.\n",
      "A subdirectory or file a already exists.\n",
      "Error occurred while processing: a.\n",
      "A subdirectory or file directory already exists.\n",
      "Error occurred while processing: directory.\n",
      "A subdirectory or file for already exists.\n",
      "Error occurred while processing: for.\n",
      "A subdirectory or file each already exists.\n",
      "Error occurred while processing: each.\n",
      "A subdirectory or file of already exists.\n",
      "Error occurred while processing: of.\n",
      "A subdirectory or file the already exists.\n",
      "Error occurred while processing: the.\n",
      "A subdirectory or file labels already exists.\n",
      "Error occurred while processing: labels.\n"
     ]
    },
    {
     "name": "stdout",
     "output_type": "stream",
     "text": [
      "Collecting images for no\n"
     ]
    },
    {
     "name": "stderr",
     "output_type": "stream",
     "text": [
      "A subdirectory or file #create already exists.\n",
      "Error occurred while processing: #create.\n",
      "A subdirectory or file a already exists.\n",
      "Error occurred while processing: a.\n",
      "A subdirectory or file directory already exists.\n",
      "Error occurred while processing: directory.\n",
      "A subdirectory or file for already exists.\n",
      "Error occurred while processing: for.\n",
      "A subdirectory or file each already exists.\n",
      "Error occurred while processing: each.\n",
      "A subdirectory or file of already exists.\n",
      "Error occurred while processing: of.\n",
      "A subdirectory or file the already exists.\n",
      "Error occurred while processing: the.\n",
      "A subdirectory or file labels already exists.\n",
      "Error occurred while processing: labels.\n"
     ]
    },
    {
     "name": "stdout",
     "output_type": "stream",
     "text": [
      "Collecting images for iloveyou\n"
     ]
    }
   ],
   "source": [
    "for label in labels: #loop through the labels in the array\n",
    "    !mkdir {'Tensorflow\\workspace\\images\\collectedimages\\\\'+label} #create a directory for each of the labels\n",
    "    cap = cv2.VideoCapture(0) #init webcam\n",
    "    print('Collecting images for {}'.format(label)) \n",
    "    time.sleep(5) #give us time to get into position to get images\n",
    "    for imgnum in range(number_imgs): #loop through 15 images\n",
    "        ret, frame = cap.read() #set up our capture\n",
    "        #defining the image capture at image name at the file, and we give it a unique filename\n",
    "        imgname = os.path.join(IMAGES_PATH, label, label+'.'+'{}.jpg'.format(str(uuid.uuid1()))) \n",
    "        cv2.imwrite(imgname, frame) #writes the image to the directory\n",
    "        cv2.imshow('frame', frame) #shows it to the screen\n",
    "        time.sleep(2) #gives it time to get into a new position\n",
    "        \n",
    "        if cv2.waitKey(1) & 0xFF == ord('q'):\n",
    "            break\n",
    "    cap.release()"
   ]
  },
  {
   "cell_type": "code",
   "execution_count": 18,
   "id": "53211f16",
   "metadata": {},
   "outputs": [
    {
     "name": "stdout",
     "output_type": "stream",
     "text": [
      "Requirement already satisfied: pyqt5 in c:\\users\\ndgan\\miniconda3\\lib\\site-packages (5.15.11)\n",
      "Requirement already satisfied: lxml in c:\\users\\ndgan\\miniconda3\\lib\\site-packages (5.3.0)\n",
      "Requirement already satisfied: PyQt5-sip<13,>=12.15 in c:\\users\\ndgan\\miniconda3\\lib\\site-packages (from pyqt5) (12.15.0)\n",
      "Requirement already satisfied: PyQt5-Qt5<5.16.0,>=5.15.2 in c:\\users\\ndgan\\miniconda3\\lib\\site-packages (from pyqt5) (5.15.2)\n"
     ]
    }
   ],
   "source": [
    "!pip install --upgrade pyqt5 lxml"
   ]
  },
  {
   "cell_type": "code",
   "execution_count": 19,
   "id": "bd77c562",
   "metadata": {},
   "outputs": [
    {
     "name": "stdout",
     "output_type": "stream",
     "text": [
      "Package                Version\n",
      "---------------------- ---------\n",
      "absl-py                1.0.0\n",
      "argon2-cffi            21.3.0\n",
      "argon2-cffi-bindings   21.2.0\n",
      "asttokens              2.0.5\n",
      "attrs                  21.4.0\n",
      "backcall               0.2.0\n",
      "beautifulsoup4         4.10.0\n",
      "bleach                 4.1.0\n",
      "brotlipy               0.7.0\n",
      "certifi                2021.10.8\n",
      "cffi                   1.15.0\n",
      "charset-normalizer     2.0.12\n",
      "colorama               0.4.4\n",
      "conda                  4.12.0\n",
      "conda-package-handling 1.8.1\n",
      "cryptography           36.0.0\n",
      "cycler                 0.11.0\n",
      "debugpy                1.6.0\n",
      "decorator              5.1.1\n",
      "defusedxml             0.7.1\n",
      "entrypoints            0.4\n",
      "executing              0.8.3\n",
      "fonttools              4.33.2\n",
      "idna                   3.3\n",
      "ipykernel              6.10.0\n",
      "ipython                8.2.0\n",
      "ipython-genutils       0.2.0\n",
      "jedi                   0.18.1\n",
      "Jinja2                 3.1.1\n",
      "joblib                 1.1.0\n",
      "jsonschema             4.4.0\n",
      "jupyter-client         7.2.1\n",
      "jupyter-core           4.9.2\n",
      "jupyterlab-pygments    0.1.2\n",
      "kiwisolver             1.4.2\n",
      "lxml                   5.3.0\n",
      "MarkupSafe             2.1.1\n",
      "matplotlib             3.5.1\n",
      "matplotlib-inline      0.1.3\n",
      "mediapipe              0.8.9.1\n",
      "menuinst               1.4.18\n",
      "mistune                0.8.4\n",
      "nbclient               0.5.13\n",
      "nbconvert              6.4.5\n",
      "nbformat               5.2.0\n",
      "nest-asyncio           1.5.4\n",
      "notebook               6.4.10\n",
      "numpy                  1.22.3\n",
      "opencv-contrib-python  4.5.5.64\n",
      "opencv-python          4.5.5.64\n",
      "packaging              21.3\n",
      "pandas                 1.4.2\n",
      "pandocfilters          1.5.0\n",
      "parso                  0.8.3\n",
      "pickleshare            0.7.5\n",
      "Pillow                 9.1.0\n",
      "pip                    22.0.4\n",
      "prometheus-client      0.13.1\n",
      "prompt-toolkit         3.0.28\n",
      "protobuf               3.20.1\n",
      "psutil                 5.9.0\n",
      "pure-eval              0.2.2\n",
      "pycosat                0.6.3\n",
      "pycparser              2.21\n",
      "Pygments               2.11.2\n",
      "pyOpenSSL              22.0.0\n",
      "pyparsing              3.0.7\n",
      "PyQt5                  5.15.11\n",
      "PyQt5-Qt5              5.15.2\n",
      "PyQt5_sip              12.15.0\n",
      "pyrsistent             0.18.1\n",
      "PySocks                1.7.1\n",
      "python-dateutil        2.8.2\n",
      "pytz                   2022.1\n",
      "pywin32                303\n",
      "pywinpty               2.0.5\n",
      "pyzmq                  22.3.0\n",
      "requests               2.27.1\n",
      "ruamel-yaml-conda      0.15.80\n",
      "scikit-learn           1.1.1\n",
      "scikit-surprise        1.1.1\n",
      "scipy                  1.8.1\n",
      "seaborn                0.11.2\n",
      "Send2Trash             1.8.0\n",
      "setuptools             62.1.0\n",
      "six                    1.16.0\n",
      "soupsieve              2.3.1\n",
      "stack-data             0.2.0\n",
      "surprise               0.1\n",
      "terminado              0.13.3\n",
      "testpath               0.6.0\n",
      "threadpoolctl          3.1.0\n",
      "tornado                6.1\n",
      "tqdm                   4.64.0\n",
      "traitlets              5.1.1\n",
      "urllib3                1.26.9\n",
      "wcwidth                0.2.5\n",
      "webencodings           0.5.1\n",
      "wheel                  0.37.1\n",
      "win-inet-pton          1.1.0\n"
     ]
    }
   ],
   "source": [
    "!pip list"
   ]
  },
  {
   "cell_type": "code",
   "execution_count": 20,
   "id": "96f2a904",
   "metadata": {},
   "outputs": [],
   "source": [
    "LABELIMG_PATH = os.path.join('Tensorflow', 'labelimg')"
   ]
  },
  {
   "cell_type": "code",
   "execution_count": 21,
   "id": "bdb1a3e1",
   "metadata": {},
   "outputs": [],
   "source": [
    "if not os.path.exists(LABELIMG_PATH):\n",
    "    !mkdir {LABELIMG_PATH}\n",
    "    !git clone https://github.com/tzutalin/labelImg {LABELIMG_PATH}"
   ]
  },
  {
   "cell_type": "code",
   "execution_count": 24,
   "id": "e9eb5fda",
   "metadata": {},
   "outputs": [],
   "source": [
    "if os.name == 'posix':\n",
    "    !cd {LABELIMG_PATH} && make qt5py3\n",
    "if os.name == 'nt':\n",
    "    !cd {LABELIMG_PATH} && pyrcc5 -o libs/resources.py resources.qrc"
   ]
  },
  {
   "cell_type": "code",
   "execution_count": null,
   "id": "0973f630",
   "metadata": {},
   "outputs": [],
   "source": [
    "!cd {LABELIMG_PATH} && python labelImg.py"
   ]
  },
  {
   "cell_type": "code",
   "execution_count": null,
   "id": "1484c3d3",
   "metadata": {},
   "outputs": [],
   "source": []
  }
 ],
 "metadata": {
  "kernelspec": {
   "display_name": "Python 3 (ipykernel)",
   "language": "python",
   "name": "python3"
  },
  "language_info": {
   "codemirror_mode": {
    "name": "ipython",
    "version": 3
   },
   "file_extension": ".py",
   "mimetype": "text/x-python",
   "name": "python",
   "nbconvert_exporter": "python",
   "pygments_lexer": "ipython3",
   "version": "3.9.12"
  }
 },
 "nbformat": 4,
 "nbformat_minor": 5
}
